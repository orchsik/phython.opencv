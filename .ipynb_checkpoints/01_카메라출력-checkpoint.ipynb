{
 "cells": [
  {
   "cell_type": "code",
   "execution_count": null,
   "id": "d8eec34d",
   "metadata": {},
   "outputs": [],
   "source": [
    "import cv2\n",
    "print(cv2.__version__)"
   ]
  },
  {
   "cell_type": "code",
   "execution_count": null,
   "id": "7a4989b2",
   "metadata": {},
   "outputs": [],
   "source": [
    "import cv2\n",
    "\n",
    "capture = cv2.VideoCapture(0)\n",
    "capture.set(cv2.CAP_PROP_FRAME_WIDTH, 640)\n",
    "capture.set(cv2.CAP_PROP_FRAME_HEIGHT, 480)\n",
    "\n",
    "while cv2.waitKey(33) < 0:\n",
    "    ret, frame = capture.read()\n",
    "    cv2.imshow(\"VideoFrame\", frame)\n",
    "\n",
    "capture.release()\n",
    "cv2.destroyAllWindows()"
   ]
  },
  {
   "cell_type": "code",
   "execution_count": null,
   "id": "1042844a",
   "metadata": {},
   "outputs": [],
   "source": [
    "import cv2\n",
    "\n",
    "# 비디오출력클래스(cv2.VideoCapture)를 통해 내장 카메라 또는 외장 카메라에서 정보를 받아온다.\n",
    "# cv2.VideoCapture(index)로 카메라의 장치번호(ID)와 연결\n",
    "# index는 카메라의 장치 번호를 의미.\n",
    "# 노트북의 경우, 일반적으로 내장 카레라가 존재하므로 노트북 카메라의 장치번호는 0이 된다.\n",
    "# 카메라를 추가적으로 연결하여 외장 카메라를 사용하는 경우, 장치번호가 1~n까지 순차적으로 할당된다.\n",
    "capture = cv2.VideoCapture(0)\n",
    "\n",
    "# 카메라 속성 설정 메서드(capture.set)로 카메라의 속성을 설정한다.\n",
    "# capture.set(prodid, value)로 카메라의 속성(propid)과 값(value)을 설정할 수 있다.\n",
    "# propid는 변경하려난 카메라 설정을 의미.\n",
    "capture.set(cv2.CAP_PROP_FRAME_WIDTH, 640)\n",
    "capture.set(cv2.CAP_PROP_FRAME_HEIGHT, 480)\n",
    "\n",
    "# 반복문을 사용하여 카메라에서 프레임을 지속적으로 받아온다.\n",
    "# 키 입력 대기 함수(cv2.waitkey(delay))는 지정된 시간동안 키 입력이 있을 때까지 프로그램을 지연시킨다.\n",
    "# 밀리초 단위의 시간동안 키 입력을 기다린다. 그 시간동안 키 입력이 없을 경우 다음 구문을 실행한다.\n",
    "# 키 입력 대기 함수는 입력된 키의 아스키 코드 값을 반환.\n",
    "while cv2.waitKey(33) < 0:\n",
    "    # 프레임 읽기 메서드(capture.read)를 이용하여 카메라의 상태 및 프레임을 받아온다.\n",
    "    # ret은 카메라의 상태가 저장되며 정상 작동 여부에 따라 true, false 반환.\n",
    "    # frame에 현재 시점의 프레임 저장.\n",
    "    ret, frame = capture.read()\n",
    "    # 이미지 표시 함수(cv2.imshow)를 이용하여 특정 윈도우 창에 이미지 로드.\n",
    "    # cv2.imshow(winname, mat)으로 윈도우 창의 제목(winname)과 이미지(mat)를 할당.\n",
    "    cv2.imshow(\"VideoFrame\", frame)\n",
    "\n",
    "# 메모리 해제 메서드(capture.release)로 카메라 장치에서 받아온 메모리 해제.\n",
    "# 모든 윈도우 창 제거 함수(cv2.destroyAllWindows)를 이용하여 모든 윈도우 창 닫기.\n",
    "# 특정 윈도우 창 닫기(cv2.destroy(winname))\n",
    "capture.release()\n",
    "cv2.destroyAllWindows()"
   ]
  }
 ],
 "metadata": {
  "kernelspec": {
   "display_name": "Python 3 (ipykernel)",
   "language": "python",
   "name": "python3"
  },
  "language_info": {
   "codemirror_mode": {
    "name": "ipython",
    "version": 3
   },
   "file_extension": ".py",
   "mimetype": "text/x-python",
   "name": "python",
   "nbconvert_exporter": "python",
   "pygments_lexer": "ipython3",
   "version": "3.9.6"
  }
 },
 "nbformat": 4,
 "nbformat_minor": 5
}
