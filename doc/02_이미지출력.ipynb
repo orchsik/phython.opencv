{
 "cells": [
  {
   "cell_type": "markdown",
   "id": "6fb50f3d",
   "metadata": {},
   "source": [
    "OpenCV는 **래스터 그래픽스 이미지 파일 포맷**을 쉽게 불러올 수 있는 별도의 함수를 제공.  \n",
    "이 함수는 불러온 압축해제된 이미지 데이터 구조에 필요한 메모리 할당과 같은 복잡한 작업을 처리.  \n",
    "**파일 시그니처(File Signature)**를 읽어 적절한 코덱을 결정.  \n",
    "OpenCV에서 이미지를 불러올 때는 확장자를 확인하는 방식이 아닌 파일 시그니처를 읽어 파일의 포맷을 분석.  \n",
    "파일 시그니처는 `파일 매직 넘버(File Magic Number)`라고도 하며, 각 파일 형식마다 몇개의 바이트가 지정되어 있음.  \n",
    "예를 들어 png 확장자의 경우 `89 50 4E ...` 형태로 파일 헤더에 포함된다.  \n",
    "이미지 입력 함수는 운영체제의 코덱을 사용해 운영체제 별로 픽셀값이 다를 수 있다.\n",
    "\n"
   ]
  },
  {
   "cell_type": "code",
   "execution_count": 1,
   "id": "b19aaed5",
   "metadata": {},
   "outputs": [
    {
     "name": "stdout",
     "output_type": "stream",
     "text": [
      "1280 1920 3\n"
     ]
    }
   ],
   "source": [
    "import cv2\n",
    " \n",
    "image = cv2.imread(\"Image/lunar.jpg\", cv2.IMREAD_ANYCOLOR)\n",
    "cv2.imshow(\"Moon\", image)\n",
    "cv2.waitKey()\n",
    "cv2.destroyAllWindows()\n",
    "\n",
    "height, width, channel = image.shape\n",
    "print(height, width, channel)"
   ]
  },
  {
   "cell_type": "code",
   "execution_count": null,
   "id": "5ee136c0",
   "metadata": {},
   "outputs": [],
   "source": [
    "import cv2\n",
    "\n",
    "# 이미지 입력 함수(cv2.imread)를 통해 로컬 경로의 이미지 파일을 읽어 올 수 있다.\n",
    "# image = cv2.imread(filename, flags)는 파일경로(filename)의 이미지 파일을 flag 설정에 따라 로드\n",
    "image = cv2.imread(\"Image/lunar.jpg\", cv2.IMREAD_ANYCOLOR)\n",
    "\n",
    "# 이미지 표시(cv2.imshow)와 키 입력 대기 함수(cv2.waitKey)로 윈도우 창에 이미지를 띄울 수 있다.\n",
    "# 키 입력 대기 함수를 사용하지 않을 경우, 윈도우 창이 유지되지 않고 프로그램이 종료된다.\n",
    "# 키 입력 이후, 모든 윈도우 창 제거 함수(cv2.destroyAllWIndows)를 이용하여 모든 윈도우 창을 닫는다.\n",
    "cv2.imshow(\"Moon\", image)\n",
    "cv2.waitKey()\n",
    "cv2.destroyAllWindows()\n",
    "\n",
    "# height, width, channel = image.shape를 이용하여 해당 이미지의 높이, 너비, 채널 값 확인.\n",
    "# 이미지의 속성은 크기, 정밀도, 채널을 주요한 속성으로 사용합니다.\n",
    "height, width, channel = image.shape\n",
    "print(height, width, channel)"
   ]
  },
  {
   "cell_type": "markdown",
   "id": "8a9c1aef",
   "metadata": {},
   "source": [
    "### flags  \n",
    "cv2.IMREAD_UNCHANGED : 원본 사용  \n",
    "cv2.IMREAD_GRAYSCALE : 1 채널, 그레이스케일 적용  \n",
    "cv2.IMREAD_COLOR : 3 채널, BGR 이미지 사용  \n",
    "cv2.IMREAD_ANYDEPTH : 이미지에 따라 정밀도를 16/32비트 또는 8비트로 사용  \n",
    "cv2.IMREAD_ANYCOLOR : 가능한 3 채널, 색상 이미지로 사용  \n",
    "cv2.IMREAD_REDUCED_GRAYSCALE_2 : 1 채널, 1/2 크기, 그레이스케일 적용  \n",
    "cv2.IMREAD_REDUCED_GRAYSCALE_4 : 1 채널, 1/4 크기, 그레이스케일 적용  \n",
    "cv2.IMREAD_REDUCED_GRAYSCALE_8 : 1 채널, 1/8 크기, 그레이스케일 적용  \n",
    "cv2.IMREAD_REDUCED_COLOR_2 : 3 채널, 1/2 크기, BGR 이미지 사용  \n",
    "cv2.IMREAD_REDUCED_COLOR_4 : 3 채널, 1/4 크기, BGR 이미지 사용  \n",
    "cv2.IMREAD_REDUCED_COLOR_8 : 3 채널, 1/8 크기, BGR 이미지 사용  "
   ]
  },
  {
   "cell_type": "markdown",
   "id": "4aae7af3",
   "metadata": {},
   "source": [
    "크기 : 이미지의 높이와 너비를 의미합니다.  \n",
    "정밀도 : 이미지의 처리 결과의 정밀성을 의미합니다.  \n",
    "채널 : 이미지의 색상 정보를 의미합니다.  \n",
    "\n",
    "Tip : 유효 비트가 많을 수록 더 정밀해집니다.  \n",
    "Tip : 채널이 3일 경우, 다색 이미지입니다. 채널이 1일 경우, 단색 이미지입니다.  "
   ]
  }
 ],
 "metadata": {
  "kernelspec": {
   "display_name": "Python 3 (ipykernel)",
   "language": "python",
   "name": "python3"
  },
  "language_info": {
   "codemirror_mode": {
    "name": "ipython",
    "version": 3
   },
   "file_extension": ".py",
   "mimetype": "text/x-python",
   "name": "python",
   "nbconvert_exporter": "python",
   "pygments_lexer": "ipython3",
   "version": "3.9.6"
  }
 },
 "nbformat": 4,
 "nbformat_minor": 5
}
