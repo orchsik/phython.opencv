{
 "cells": [
  {
   "cell_type": "markdown",
   "id": "6e09593d",
   "metadata": {},
   "source": [
    "**회전(Rotate)**은 선형 변환 중 하나에 포함되며, **회전 변환 행렬(Rotation matrix)**을 통해 변환이 진행된다.  \n",
    "회전 변환 행렬은 임의의 점을 중심으로 물체를 회전시킨다. 회전 변환 행렬의 일부는 **반사 행렬(Reflection matrix)**과 같은 값을 지닐 수 있다.  \n",
    "2차원 유클리드 공간에서의 회전은 크게 두 가지 회전 행렬을 갖는다. **죄푯값을 회전시키는 회전 행렬**과 좌표 축을 회전 시키는 회전 행렬이 있다.  \n",
    "좌표 회전 행렬은 원점을 중심으로 좌푯값을 회전시켜 매핑하며, 좌표 축 회전 행렬은 원점을 중심으로 행렬 자체를 회전시켜 새로운 값을 구성한다.  \n",
    "OpenCV의 회전 함수는 좌표 축의 회전 이동 행렬과 동일한 형태이며, 비율을 조정하거나 중심점의 기준을 변경하여 회전할 수 있다."
   ]
  },
  {
   "cell_type": "code",
   "execution_count": 1,
   "id": "872553ba",
   "metadata": {},
   "outputs": [],
   "source": [
    "import cv2\n",
    "\n",
    "src = cv2.imread(\"Image/ara.jpg\", cv2.IMREAD_COLOR)\n",
    "\n",
    "height, width, channel = src.shape\n",
    "matrix = cv2.getRotationMatrix2D((width/2, height/2), 90, 1)\n",
    "dst = cv2.warpAffine(src, matrix, (width, height))\n",
    "\n",
    "cv2.imshow(\"src\", src)\n",
    "cv2.imshow(\"dst\", dst)\n",
    "cv2.waitKey()\n",
    "cv2.destroyAllWindows()"
   ]
  },
  {
   "cell_type": "code",
   "execution_count": null,
   "id": "ca35c1af",
   "metadata": {},
   "outputs": [],
   "source": [
    "import cv2\n",
    "\n",
    "# 이미지 입력함수(cv2.imread)를 통해 원본이미지로 사용할 src를 선언하고 이미지의 경로 로드\n",
    "src = cv2.imread(\"Image/ara.jpg\", cv2.IMREAD_COLOR)\n",
    "\n",
    "# height, width, channel = src.shape를 이용하여 해당 이미지의 높이, 너비, 채널 값 저장\n",
    "# 높이와 너비를 이용하여 회전 중심점을 설정한다.\n",
    "height, width, channel = src.shape\n",
    "\n",
    "# 2x3 회전 행렬 생성 함수(cv2.geRotationMatrix2D)로 회전 변환 행렬 계산.\n",
    "# matrix = cv2.getRotationMatrix2D(center, angle, scale)는 중심점(center), 각도(angle), 비율(scale)로 매핑 변환 행렬(matrix)을 생성.\n",
    "# 중심점(center)은 튜플(Tuple) 형태로 사용하며 회전의 기준점을 설정한다.\n",
    "# 각도(angle)는 중심점을 기준으로 회전할 각도를 설정한다.\n",
    "# 비율(scale)은 이미지 확대 및 축소 비율을 설정.\n",
    "matrix = cv2.getRotationMatrix2D((width/2, height/2), 90, 1)\n",
    "\n",
    "# 아핀 변환 함수(cv2.wrapAffine)로 회전 변환을 계산.\n",
    "# dst = cv2.wrapAffine(src, M, dsize)는 원본 이미지(src)에 M(아핀 맵 행렬)을 적용하고\n",
    "# 출력 이미지 크기(dsize)로 변형해서 출력이미지(dst)를 반환한다.\n",
    "# 아핀 맵 행렬(M)은 회전 행렬 생성 함수에서 반환된 매핑 변환 행렬을 사용한다.\n",
    "# 출력 이미지 크기(dszie)는 튜플(tuple) 형태로 사용하며 출력이미지의 너비와 높이를 의미.\n",
    "# 아핀 맵 행렬에 따라 회전된 이미지를 반환.\n",
    "dst = cv2.warpAffine(src, matrix, (width, height))\n",
    "\n",
    "cv2.imshow(\"src\", src)\n",
    "cv2.imshow(\"dst\", dst)\n",
    "cv2.waitKey()\n",
    "cv2.destroyAllWindows()"
   ]
  }
 ],
 "metadata": {
  "kernelspec": {
   "display_name": "Python 3 (ipykernel)",
   "language": "python",
   "name": "python3"
  },
  "language_info": {
   "codemirror_mode": {
    "name": "ipython",
    "version": 3
   },
   "file_extension": ".py",
   "mimetype": "text/x-python",
   "name": "python",
   "nbconvert_exporter": "python",
   "pygments_lexer": "ipython3",
   "version": "3.9.6"
  }
 },
 "nbformat": 4,
 "nbformat_minor": 5
}
