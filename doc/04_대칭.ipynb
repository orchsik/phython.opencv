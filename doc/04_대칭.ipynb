{
 "cells": [
  {
   "cell_type": "markdown",
   "id": "5e5042da",
   "metadata": {},
   "source": [
    "**대칭(Flip)**은 기하학적인 측면에서 반사(reflection)의 의미를 갖는다.  \n",
    "2차원 유클리드 공간에서의 기하학적인 변환의 하나로 R^2(2차원 유클리드 공간) 위의 선형 변환을 진행한다.  \n",
    "대칭은 변환할 행렬(이미지)에 대해 2X2 행렬을 왼쪽 곱셈을 진행한다.  \n",
    "즉, 'p'형태의 물체에 Y축 대칭을 적용한다면 'q'형태를 갖게 된다.  \n",
    "그러므로, 원본 행렬(이미지)에 각 축에 대한 대칭을 적용했을 때, 단순히 원본 행렬에서 **축에 따라 재매핑**을 적용하면 대칭된 행렬을 얻을 수 있다."
   ]
  },
  {
   "cell_type": "code",
   "execution_count": 1,
   "id": "648d89f6",
   "metadata": {},
   "outputs": [],
   "source": [
    "import cv2\n",
    "\n",
    "src = cv2.imread(\"Image/glass.jpg\", cv2.IMREAD_COLOR)\n",
    "dst = cv2.flip(src, 0)\n",
    "\n",
    "cv2.imshow(\"src\", src)\n",
    "cv2.imshow(\"dst\", dst)\n",
    "cv2.waitKey()\n",
    "cv2.destroyAllWindows()"
   ]
  },
  {
   "cell_type": "code",
   "execution_count": 1,
   "id": "1ac1f125",
   "metadata": {},
   "outputs": [],
   "source": [
    "import cv2\n",
    "\n",
    "# 이미지 입력함수(cv2.imread)를 통해 원본 이미지로 사용할 src를 선언하고, 로컬경로에서 이미지 파일을 로딩해라.\n",
    "src = cv2.imread(\"Image/glass.jpg\", cv2.IMREAD_COLOR)\n",
    "\n",
    "# 대칭 함수(cv2.flip)로 이미지를 대칭할 수 있다.\n",
    "# dst = cv2.flip(src, flipCode)는 원본이미지(src)에 대칭축(flipCode)를 기준으로 대칭한 출력 이미지(dst)를 반환한다.\n",
    "# 대칭 축은 상수를 입력해 대칭할 축을 설정할 수 있다.\n",
    "# flipCode < 0 -> XY축 대칭(상하좌우 대칭)\n",
    "# flipCode = 0 -> X축 대칭(상하 대칭)\n",
    "# flipCode > 0 -> Y축 대칭(좌우 대칭)\n",
    "dst = cv2.flip(src, 0)\n",
    "\n",
    "# 이미지 표시 함수(cv2.imshow)와 키 입력 대기 함수(cv2.waitKey)로 윈도우 창에 이미지 로드.\n",
    "# 이미지 표시 함수는 여러개의 윈도우 창을 띄울 수 있으며, 동일한 이미지도 여러개의 윈도우 창으로 띄울 수 있다.\n",
    "# 단, 윈도우 창의 제목은 중복되지 않아야 한다.\n",
    "# 키 입력 대기 함수로 키가 입력될 때 까지 윈도우 창이 유지되도록 구성한다.\n",
    "# 키 입력 이후, 모든 윈도우 창 제거 함수(cv2.destroyAllWindows)를 이용하여 모든 윈도우 창을 닫는다.\n",
    "cv2.imshow(\"src\", src)\n",
    "cv2.imshow(\"dst\", dst)\n",
    "cv2.waitKey()\n",
    "cv2.destroyAllWindows()"
   ]
  }
 ],
 "metadata": {
  "kernelspec": {
   "display_name": "Python 3 (ipykernel)",
   "language": "python",
   "name": "python3"
  },
  "language_info": {
   "codemirror_mode": {
    "name": "ipython",
    "version": 3
   },
   "file_extension": ".py",
   "mimetype": "text/x-python",
   "name": "python",
   "nbconvert_exporter": "python",
   "pygments_lexer": "ipython3",
   "version": "3.9.6"
  }
 },
 "nbformat": 4,
 "nbformat_minor": 5
}
