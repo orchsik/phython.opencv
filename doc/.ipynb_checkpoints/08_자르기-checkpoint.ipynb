{
 "cells": [
  {
   "cell_type": "markdown",
   "id": "57326102",
   "metadata": {},
   "source": [
    "자르기(Slice)는 영상이나 이미지에서 특정 영역을 잘라내는 연산을 의미한다.  \n",
    "특정 영역을 잘라내는 것을 `관심 영역(Regin Of Interest, ROI)`이라 하며, 이미지 상에서 관심있는 영역을 의미한다.  \n",
    "이미지를 처리할 때 **객체를 탐지하거나 검출하는 영역**을 명확하게 관심 영역이라 볼 수 있다.  \n",
    "관심 영역에만 알고리즘을 적용한다면 불필요한 연산이 줄어들고 정확도가 늘어나는 효과를 얻는다."
   ]
  },
  {
   "cell_type": "code",
   "execution_count": 2,
   "id": "67b55717",
   "metadata": {},
   "outputs": [],
   "source": [
    "import cv2\n",
    "\n",
    "src = cv2.imread(\"image/apple.jpg\", cv2.IMREAD_COLOR)\n",
    "dst = src[100:600, 200:700].copy()\n",
    "\n",
    "cv2.imshow(\"src\", src)\n",
    "cv2.imshow(\"dst\", dst)\n",
    "cv2.waitKey()\n",
    "cv2.destroyAllWindows()"
   ]
  },
  {
   "cell_type": "markdown",
   "id": "898cb5f2",
   "metadata": {},
   "source": [
    "```python\n",
    "dst = src[100:600, 200:700].copy()\n",
    "```\n",
    "\n",
    "OpenCV의 이미지는 `numpy` 배열 형식과 동일하다.  \n",
    "`src` 이미지에 `src[높이(행), 너비(열)]`로 관심 영역을 설정한다.  \n",
    "이미지를 자르거나 복사할 때, `dst = src`의 형태로 사용할 경우, 얕은 복사(shallow copy)가 되어 원본도 영향을 받는다.  \n",
    "그러므로 `*.copy()`를 이용해 깊은 복사(deep copy)를 진행한다."
   ]
  },
  {
   "cell_type": "code",
   "execution_count": 4,
   "id": "b50e00c8",
   "metadata": {},
   "outputs": [],
   "source": [
    "import cv2\n",
    "\n",
    "src = cv2.imread(\"Image/apple.jpg\", cv2.IMREAD_COLOR)\n",
    "\n",
    "dst = src.copy() \n",
    "roi = src[100:600, 200:700]\n",
    "dst[0:500, 0:500] = roi\n",
    "\n",
    "cv2.imshow(\"src\", src)\n",
    "cv2.imshow(\"dst\", dst)\n",
    "cv2.waitKey()\n",
    "cv2.destroyAllWindows()"
   ]
  },
  {
   "cell_type": "markdown",
   "id": "f7802a7b",
   "metadata": {},
   "source": [
    "```python\n",
    "dst = src.copy()\n",
    "```\n",
    "dst 이미지를 생성할 때, `dst = src.copy()`가 아닌 dst = src로 적용한다면 깊은 복사가 적용되 않는다.  \n",
    "얕은 복사로 이미지를 복사할 경우, dst 이미지와 src 이미지는 동일한 결과로 반환.  \n",
    "\n",
    "```python\n",
    "roi = src[100:600, 200:700]\n",
    "dst[0:500, 0:500] = roi\n",
    "```\n",
    "roi 이미를 생성하여 src[높이(행), 너비(열)]로 관심 영역을 설정한다.  \n",
    "이후 `dst[높이(행), 너비(열)]= roi`를 이용하여 `dst` 이미지에 해당 영역을 붙여넣을 수 있다.  \n",
    "잘라낸 이미지와 붙여넣을 이미지의 크기가 다르다면 이미지를 붙여넣을 수 있다."
   ]
  }
 ],
 "metadata": {
  "kernelspec": {
   "display_name": "Python 3 (ipykernel)",
   "language": "python",
   "name": "python3"
  },
  "language_info": {
   "codemirror_mode": {
    "name": "ipython",
    "version": 3
   },
   "file_extension": ".py",
   "mimetype": "text/x-python",
   "name": "python",
   "nbconvert_exporter": "python",
   "pygments_lexer": "ipython3",
   "version": "3.9.6"
  }
 },
 "nbformat": 4,
 "nbformat_minor": 5
}
