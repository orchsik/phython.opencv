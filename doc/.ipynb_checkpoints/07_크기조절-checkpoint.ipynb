{
 "cells": [
  {
   "cell_type": "markdown",
   "id": "7118a2c1",
   "metadata": {},
   "source": [
    "영상이나 이미지의 크기를 확대하거나 축소하는 연산에서 확인할 수 있듯이 크기 변경은 단순 연산이 아니다.  \n",
    "이미지를 확대하는 경우에는 **픽셀에 대한 보간법**, 이미지를 축소하는 경우에는 **픽셀에 대한 병합법**이 수행된다.  \n",
    "이미지 피라미드는 2배로 확대하거나 축소하는 경우만 가능하므로, 원하는 크기로 변환하기 위해서 이미지 크기 조절 함수를 사용한다.  \n",
    "이미지 크기를 조절하는 방법은 크게 두가지 방법이 있다.\n",
    "1. 이미지의 크기를 **사용자가 요구하는 `절대 크기`로 변경하는 방법**. 즉, 임의의 크기로 변환.  \n",
    "2. 이미지 크기를 비율에 맞게 **`상대 크기`**로 변경하는 방법."
   ]
  },
  {
   "cell_type": "code",
   "execution_count": 1,
   "id": "dc1ec9c4",
   "metadata": {},
   "outputs": [],
   "source": [
    "import cv2\n",
    "\n",
    "src = cv2.imread(\"Image/champagne.jpg\", cv2.IMREAD_COLOR)\n",
    "\n",
    "dst = cv2.resize(src, dsize=(640, 480), interpolation=cv2.INTER_AREA)\n",
    "dst2 = cv2.resize(src, dsize=(0, 0), fx=0.3, fy=0.7, interpolation=cv2.INTER_LINEAR)\n",
    "\n",
    "cv2.imshow(\"src\", src)\n",
    "cv2.imshow(\"dst\", dst)\n",
    "cv2.imshow(\"dst2\", dst2)\n",
    "cv2.waitKey()\n",
    "cv2.destroyAllWindows()"
   ]
  },
  {
   "cell_type": "markdown",
   "id": "dc129678",
   "metadata": {},
   "source": [
    "```python\n",
    "dst = cv2.resize(src, dsize=(640, 480), interpolation=cv2.INTER_AREA)\n",
    "dst2 = cv2.resize(src, dsize=(0, 0), fx=0.3, fy=0.7, interpolation=cv2.INTER_LINEAR)\n",
    "```\n",
    "\n",
    "`이미지 크기 조절 함수(cv2.resize)`로 이미지 크기 변경\n",
    "dst = cv2.resize(src, dsize, fx, fy, interpolation)는 입력이미지(src), 절대크기(dsize), 상대크기(fx, fy), 보간법(interpolation)\n",
    "으로 출력이미지(dst)을 생성한다.  \n",
    "\n",
    "절대크기는 튜플(Tuple) 형식으로 (너비,높이)의 값을 할당해 사용한다.  \n",
    "절대크기는 다음과 같은 수식을 통해 계산된다.\n",
    "> dsize.width=round(fx×src.cols)  \n",
    "> dsize.height=round(fy×src.rows)  \n",
    "\n",
    "상대크기는 절대크기에 (0,0)을 할당한 다음, 상대크기의 값을 할당해 사용한다.  \n",
    "절대 크기에 (0,0)을 할당하는 이유는 fx, fy에서 계산된 크기가 dsize에 할당되기 때문이다.  \n",
    "그러므로 상대크기로 이미지를 변경하기 위해서는 절대크기에 0의 값을 할당해 사용한다.  \n",
    "상대크기는 다음과 같은 수식을 통해 계산된다.\n",
    "> fx=dsize.width/src.cols  \n",
    "> fy=dsize.height/src.rows  \n",
    "\n",
    "`보간법`은 이미지의 크기를 변경하는 경우, 변환된 이미지의 픽셀은 추정해서 값을 할당해야 한다.  \n",
    "이미지의 비율을 변경하면 존재하지 않는 영역에 **새로운 픽셀값을 매핑하거나 존재하는 픽셀을 압축해서 새로운 값을 할당해야 한다**  \n",
    "이를 이미지 상에 존재하는 픽셀 데이터(x,y)들에 대해 근사 함수 f(x,y)를 적용해서 새로운 픽셀값을 구하는 것으로 이해할수 있다.  \n",
    "그러므로 추정해야 하는 픽셀은 `보간법`을 이용하여 픽셀들의 값을 할당한다.\n",
    "\n"
   ]
  },
  {
   "cell_type": "markdown",
   "id": "750cb3e5",
   "metadata": {},
   "source": [
    "### interpolation 속성  \n",
    "\n",
    "| 속성 | 의미 |\n",
    "|---|---|\n",
    "|cv2.INTER_NEAREST      |\t이웃 보간법\n",
    "|cv2.INTER_LINEAR       | \t쌍 선형 보간법\n",
    "|cv2.INTER_LINEAR_EXACT |\t비트 쌍 선형 보간법\n",
    "|cv2.INTER_CUBIC        |\t바이큐빅 보간법\n",
    "|cv2.INTER_AREA\t        |   영역 보간법\n",
    "|cv2.INTER_LANCZOS4\t    |   Lanczos 보간법\n",
    "\n",
    "일반적으로 `쌍 선형 보간법`이 가장 많이 사용된다.  \n",
    "이미지를 확대하는 경우, `바이큐빅 보간법`이나 `쌍 선형 보간법`을 가장 많이 사용한다.  \n",
    "이미지를 축소하는 경우, `영역 보간법`을 가장 많이 사용한다.  \n",
    "`영역 보간법`에서 이미지를 확대하는 경우, `이웃 보간법`과 비슷한 결과를 반환한다."
   ]
  }
 ],
 "metadata": {
  "kernelspec": {
   "display_name": "Python 3 (ipykernel)",
   "language": "python",
   "name": "python3"
  },
  "language_info": {
   "codemirror_mode": {
    "name": "ipython",
    "version": 3
   },
   "file_extension": ".py",
   "mimetype": "text/x-python",
   "name": "python",
   "nbconvert_exporter": "python",
   "pygments_lexer": "ipython3",
   "version": "3.9.6"
  }
 },
 "nbformat": 4,
 "nbformat_minor": 5
}
