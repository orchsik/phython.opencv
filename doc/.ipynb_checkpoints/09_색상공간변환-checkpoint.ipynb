{
 "cells": [
  {
   "cell_type": "markdown",
   "id": "4b4b8bc9",
   "metadata": {},
   "source": [
    "`색상 공간 변환(Convert Color)`은 본래의 색상 공간에서 다른 색상 공간으로 변환할 때 사용한다.  \n",
    "색상 공간 변환 함수는  **데이터 타입을 같게 유지하고 채널을 변환한다.**  \n",
    "입력된 이미지는 `8비트`, `16비트`, `32비트`의 정밀도를 갖는 배열을 사용할 수 있다.  \n",
    "출력된 이미지는 입력된 이미지와 크기와 정밀도가 동일한 배열이 된다.  \n",
    "채널의 수가 감소하게 되어 이미지의 내부 데이터는 설정한 색상 공간과 일치하는 값으로 변환되며, **데이터 값이 변경되거나 채널 순서가 변경될 수 있다.**"
   ]
  },
  {
   "cell_type": "code",
   "execution_count": 3,
   "id": "613c912e",
   "metadata": {},
   "outputs": [],
   "source": [
    "import cv2\n",
    "\n",
    "src = cv2.imread(\"image/crow.jpg\", cv2.IMREAD_COLOR)\n",
    "dst = cv2.cvtColor(src, cv2.COLOR_BGR2GRAY)\n",
    "\n",
    "cv2.imshow(\"src\", src)\n",
    "cv2.imshow(\"dst\", dst)\n",
    "cv2.waitKey()\n",
    "cv2.destroyAllWindows()"
   ]
  },
  {
   "cell_type": "markdown",
   "id": "450fc989",
   "metadata": {},
   "source": [
    "```python\n",
    "dst = cv2.cvtColor(src, cv2.COLOR_BGR2GRAY)\n",
    "```\n",
    "`색상 공간 변환 함수(cv2.cvtColor)`로 이미지의 색상 공간을 변경할 수 있다.  \n",
    "`dst = cv2.cvtColor(src, code, dstCn)`는 입력 이미지(src), 색상 변환 코드(code), 출력 채널(dstCn)으로 출력이미지(dst)을 생성한다.  \n",
    "- Tip : BGR은 RGB 색상 채널을 의미합니다. (Byte 역순)\n",
    "- Tip : BGR은 RGB 색상 채널을 의미합니다. (Byte 역순)"
   ]
  },
  {
   "cell_type": "markdown",
   "id": "8b56abab",
   "metadata": {},
   "source": [
    "### 채널 범위\n",
    "|형식\t|범위|\n",
    "|---|---|\n",
    "CV_8U\t|  0 ~ 255\n",
    "CV_16U\t|  0 ~ 65535\n",
    "CV_32F\t|  0 ~ 1"
   ]
  },
  {
   "cell_type": "markdown",
   "id": "bcb119b1",
   "metadata": {},
   "source": [
    "### 색상 공간 코드\n",
    "|속성|\t의미|\t비고|\n",
    "|---|---|---|\n",
    "BGR\t   |  Blue, Green, Red 채널\t       |    -\n",
    "BGRA   |  Blue, Green, Red, Alpha 채널   |\t-\n",
    "RGB\t   |  Red, Green, Blue 채널          |\t-\n",
    "RGBA   |  Red, Green, Blue, Alpha 채널   | \t-\n",
    "GRAY   |  단일 채널\t                     |    그레이스케일\n",
    "BGR565 |  Blue, Green, Red 채널\t       |    16 비트 이미지\n",
    "XYZ\t   |  X, Y, Z 채널\t               |    CIE 1931 색 공간\n",
    "YCrCb  |  Y, Cr, Cb 채널\t               |    YCC (크로마)\n",
    "HSV\t   |  Hue, Saturation, Value 채널\t   |    색상, 채도, 명도\n",
    "Lab\t   |  L, a, b 채널\t               |    반사율, 색도1, 색도2\n",
    "Luv    |  L, u, v 채널\t               |    IE Luv\n",
    "HLS\t   |  Hue, Lightness, Saturation 채널|\t색상, 밝기, 채도\n",
    "YUV\t   |  Y, U, V 채널\t               |    밝기, 색상1, 색상2\n",
    "BG, GB, RG\t| 디모자이킹                 |    단일 색상 공간으로 변경\n",
    "_EA\t   |  디모자이킹\t                    |    가장자리 인식\n",
    "_VNG   |  디모자이킹\t                    |    그라데이션 사용\n",
    "\n",
    "원본 이미지 색상 공간2 결과 이미지 색상 공간에 색상 공간 코드를 조합하여 사용할 수 있다.  \n",
    "예) `BGR2GRAY`는 `Blue, Green, Red 채널` 이미지를 `단일 채널`, `그레이스케일` 이미지로 변경합니다."
   ]
  }
 ],
 "metadata": {
  "kernelspec": {
   "display_name": "Python 3 (ipykernel)",
   "language": "python",
   "name": "python3"
  },
  "language_info": {
   "codemirror_mode": {
    "name": "ipython",
    "version": 3
   },
   "file_extension": ".py",
   "mimetype": "text/x-python",
   "name": "python",
   "nbconvert_exporter": "python",
   "pygments_lexer": "ipython3",
   "version": "3.9.6"
  }
 },
 "nbformat": 4,
 "nbformat_minor": 5
}
