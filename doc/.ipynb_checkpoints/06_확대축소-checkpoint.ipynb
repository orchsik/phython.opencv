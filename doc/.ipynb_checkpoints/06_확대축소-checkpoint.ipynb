{
 "cells": [
  {
   "cell_type": "markdown",
   "id": "642b0f56",
   "metadata": {},
   "source": [
    "입력 이미지는 항상 동일한 크기가 아니다.  \n",
    "만약 알고리즘에서 요구하는 해상도가 있다면 **입력 이미지의 크기를 변경해 영상 처리를 진행해야 한다.**  \n",
    "또한, 검출하려는 객체가 너무 작거나 입력 이미지가 너무 큰 경우 입력 이미지 자체를 변환해서 영상 처리를 진행할 수도 있다.  \n",
    "이미지 확대와 축소는 `이미지 피라미드(Image pyramid)`를 활용해 이미지의 크기를 원하는 단계까지 샘플링하는 작업이다.  \n",
    "이미지 피라미드의 의미는 이미지의 크기를 확대하거나 축소했을 때 이미지의 형태가 피라미드와 같이 표현된다.  \n",
    "원본 이미지에서 크기를 확대하는 것을 `업 샘플링`이라 하며, **상위 단계의 이미지를 생성하게 된다.**  \n",
    "이미지 피라미드로는 `가우시안 피라미드(Gaussian Pyramid)`와 `라플라시안 피라미드(Laplacian pyramid)`를 활용한다."
   ]
  },
  {
   "cell_type": "code",
   "execution_count": 1,
   "id": "cfdf53b1",
   "metadata": {},
   "outputs": [],
   "source": [
    "import cv2\n",
    "\n",
    "src = cv2.imread(\"Image/fruits.jpg\", cv2.IMREAD_COLOR)\n",
    "height, width, channel = src.shape\n",
    "\n",
    "dst = cv2.pyrUp(src, dstsize=(width * 2, height * 2), borderType=cv2.BORDER_DEFAULT)\n",
    "dst2 = cv2.pyrDown(src)\n",
    "\n",
    "cv2.imshow(\"src\", src)\n",
    "cv2.imshow(\"dst\", dst)\n",
    "cv2.imshow(\"dst2\", dst2)\n",
    "cv2.waitKey()\n",
    "cv2.destroyAllWindows()"
   ]
  },
  {
   "cell_type": "code",
   "execution_count": 1,
   "id": "c3f7144b",
   "metadata": {},
   "outputs": [],
   "source": [
    "import cv2\n",
    "\n",
    "src = cv2.imread(\"Image/fruits.jpg\", cv2.IMREAD_COLOR)\n",
    "\n",
    "# height, width, channel = src.shape를 이용하여 해당 이미지의 높이, 너비, 채널 값을 저장.\n",
    "# 너비와 높이를 이용하여 출력 이미지의 크기를 설정할 수 있다.\n",
    "height, width, channel = src.shape\n",
    "\n",
    "# 이미지 확대 함수(cv2.pryUp)로 이미지를 2배 확대할 수 있다.\n",
    "# dst = cv2.pyrUp(src, dstsize, borderType)는 입력이미지(src), 출력이미지크기(dstsize), 테두리외삽법(borderType)으로\n",
    "# 출력이미지(dst)을 생성한다.\n",
    "# 테두리 외삽법(borderType)은 이미지를 확대하거나 축소할 경우, 이미지 영역 밖의 픽셀은 추정해 값을 할당해야 한다.\n",
    "# 그러므로 테두리 외삽법은 이미지 밖의 픽셀을 외삽하는데 사용되는 테두리 모드로, 외삽 방식을 설정한다.\n",
    "dst = cv2.pyrUp(src, dstsize=(width * 2, height * 2), borderType=cv2.BORDER_DEFAULT)\n",
    "\n",
    "# 이미지 축소 함수(cv2.pyrDown)로 2배 이미지 축소.\n",
    "dst2 = cv2.pyrDown(src)\n",
    "\n",
    "cv2.imshow(\"src\", src)\n",
    "cv2.imshow(\"dst\", dst)\n",
    "cv2.imshow(\"dst2\", dst2)\n",
    "cv2.waitKey()\n",
    "cv2.destroyAllWindows()"
   ]
  },
  {
   "cell_type": "markdown",
   "id": "710c490e",
   "metadata": {},
   "source": [
    "### 픽셀 외삽법 종류\n",
    "|속성\t  | 의미 |\n",
    "|---|---|\n",
    "|cv2.BORDER_CONSTANT\t|   iiiiii ㅣ abcdefgh ㅣ iiiiiii\n",
    "|cv2.BORDER_REPLICATE\t|   aaaaaa ㅣ abcdefgh ㅣ hhhhhhh\n",
    "|cv2.BORDER_REFLECT     |\tfedcba ㅣ abcdefgh ㅣ hgfedcb\n",
    "|cv2.BORDER_WRAP        |\tcdefgh ㅣ abcdefgh ㅣ abcdefg\n",
    "|cv2.BORDER_REFLECT_101 |\tgfedcb ㅣ abcdefgh ㅣ gfedcba\n",
    "|cv2.BORDER_REFLECT101  |\tgfedcb ㅣ abcdefgh ㅣ gfedcba\n",
    "|cv2.BORDER_DEFAULT\t    |   gfedcb ㅣ abcdefgh ㅣ gfedcba\n",
    "|cv2.BORDER_TRANSPARENT |\tuvwxyz ㅣ abcdefgh ㅣ ijklmno\n",
    "|cv2.BORDER_ISOLATED\t|   관심 영역 (ROI) 밖은 고려하지 않음  \n",
    "\n",
    "### 함수 추가 정보\n",
    "이미지 확대 함수는 BORDER_DEFAULT의 픽셀 외삽법만 사용할 수 있습니다.  \n",
    "이미지 축소 함수는 BORDER_CONSTANT의 픽셀 외삽법을 제외한 나머지 플래그만 사용할 수 있습니다."
   ]
  }
 ],
 "metadata": {
  "kernelspec": {
   "display_name": "Python 3 (ipykernel)",
   "language": "python",
   "name": "python3"
  },
  "language_info": {
   "codemirror_mode": {
    "name": "ipython",
    "version": 3
   },
   "file_extension": ".py",
   "mimetype": "text/x-python",
   "name": "python",
   "nbconvert_exporter": "python",
   "pygments_lexer": "ipython3",
   "version": "3.9.6"
  }
 },
 "nbformat": 4,
 "nbformat_minor": 5
}
