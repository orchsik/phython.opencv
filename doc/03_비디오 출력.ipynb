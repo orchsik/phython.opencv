{
 "cells": [
  {
   "cell_type": "markdown",
   "id": "52b68ffe",
   "metadata": {},
   "source": [
    "동영상 파일에서 순차적으로 프레임을 읽어 이미지의 형태로 출력.  \n",
    "동영상 파일을 읽으려면 컴퓨터에 동영상 코덱을 읽을 수 있는 라이브러리가 설치되어 있어야 한다.  \n",
    "OpenCV는 `FFmpeg`를 지원하므로 *.avi, *.mp4 등 다양한 형식의 동영상 파일을 손쉽게 읽을 수 있다.  \n",
    "이미지 파일 중, gif 확장자는 프레임이 존재하므로 동영상 파일을 읽는 방법과 동일하게 처리 된다."
   ]
  },
  {
   "cell_type": "code",
   "execution_count": 1,
   "id": "73b9893e",
   "metadata": {},
   "outputs": [],
   "source": [
    "import cv2\n",
    "\n",
    "capture = cv2.VideoCapture(\"Image/Star.mp4\")\n",
    "\n",
    "while cv2.waitKey(33) < 0:\n",
    "    if capture.get(cv2.CAP_PROP_POS_FRAMES) == capture.get(cv2.CAP_PROP_FRAME_COUNT):\n",
    "        capture.set(cv2.CAP_PROP_POS_FRAMES, 0)\n",
    "\n",
    "    ret, frame = capture.read()\n",
    "    cv2.imshow(\"VideoFrame\", frame)\n",
    "\n",
    "capture.release()\n",
    "cv2.destroyAllWindows()"
   ]
  },
  {
   "cell_type": "code",
   "execution_count": null,
   "id": "bf259bfe",
   "metadata": {},
   "outputs": [],
   "source": [
    "import cv2\n",
    "\n",
    "# 비디오 출력 클래스(cv2.VideoCapture)를 통해 동영상 파일에서 정보를 받아온다.\n",
    "# captuer = cv2.VideoCapture(fileName)는 파일 경로(filename)의 동영상 파일을 불러온다.\n",
    "capture = cv2.VideoCapture(\"Image/Star.mp4\")\n",
    "\n",
    "# 비디오 속성 반환 메서드(capture,get)로 속성을 반환.\n",
    "# 비디오의 정보 중, 동영상의 현재 프레임수(cv2.CAP_PROP_POS_FRAMES)와\n",
    "# 동영상의 총 프레임수(cv2.CAP_PROP_FRAME_COUNT)를 받아온다.\n",
    "# 현재 프레임수 = 총 프레임수 <- 동영상 끝이므로\n",
    "# 비디오 속성 설정 메서드(capture.get)로 동영상의 현재 프레임 초기화.\n",
    "# 또는 동영상 파일 읽기 메서드(capture.open)를 이용해 다시 동영상 파일을 불러올 수 있다.\n",
    "while cv2.waitKey(33) < 0:\n",
    "    if capture.get(cv2.CAP_PROP_POS_FRAMES) == capture.get(cv2.CAP_PROP_FRAME_COUNT):\n",
    "        capture.set(cv2.CAP_PROP_POS_FRAMES, 0)\n",
    "\n",
    "    ret, frame = capture.read()\n",
    "    cv2.imshow(\"VideoFrame\", frame)\n",
    "\n",
    "capture.release()\n",
    "cv2.destroyAllWindows()"
   ]
  },
  {
   "cell_type": "markdown",
   "id": "00ffcfd9",
   "metadata": {},
   "source": [
    "### VideoCapture 메서드\n",
    "capture.isOpened() : 동영상 파일 열기 성공 여부 확인  \n",
    "capture.open(filename) : 동영상 파일 열기  \n",
    "capture.set(propid, value) : 동영상 속성 설정  \n",
    "capture.get(propid) : 동영상 속성 반환  \n",
    "capture.release() : 동영상 파일을 닫고 메모리 해제  "
   ]
  },
  {
   "cell_type": "markdown",
   "id": "cdc1d962",
   "metadata": {},
   "source": [
    "### VideoCapture 속성\n",
    "cv2.CAP_PROP_FRAME_WIDTH : 프레임의 너비\t  \n",
    "cv2.CAP_PROP_FRAME_HEIGHT : 프레임의 높이\t  \n",
    "cv2.CAP_PROP_FRAME_COUNT : 총 프레임 수\t  \n",
    "cv2.CAP_PROP_FPS : 프레임 속도\t  \n",
    "cv2.CAP_PROP_FOURCC : 코덱 코드\t  \n",
    "cv2.CAP_PROP_BRIGHTNESS : 이미지 밝기\t카메라만 해당  \n",
    "cv2.CAP_PROP_CONTRAST : 이미지 대비\t카메라만 해당  \n",
    "cv2.CAP_PROP_SATURATION : 이미지 채도\t카메라만 해당  \n",
    "cv2.CAP_PROP_HUE : 이미지 색상\t카메라만 해당  \n",
    "cv2.CAP_PROP_GAIN : 이미지 게인\t카메라만 해당  \n",
    "cv2.CAP_PROP_EXPOSURE : 이미지 노출\t카메라만 해당  \n",
    "cv2.CAP_PROP_POS_MSEC : 프레임 재생 시간\tms 반환  \n",
    "cv2.CAP_PROP_POS_FRAMES : 현재 프레임\t프레임의 총 개수 미만  \n",
    "CAP_PROP_POS_AVI_RATIO : 비디오 파일 상대 위치\t0 = 시작, 1 = 끝  "
   ]
  }
 ],
 "metadata": {
  "kernelspec": {
   "display_name": "Python 3 (ipykernel)",
   "language": "python",
   "name": "python3"
  },
  "language_info": {
   "codemirror_mode": {
    "name": "ipython",
    "version": 3
   },
   "file_extension": ".py",
   "mimetype": "text/x-python",
   "name": "python",
   "nbconvert_exporter": "python",
   "pygments_lexer": "ipython3",
   "version": "3.9.6"
  }
 },
 "nbformat": 4,
 "nbformat_minor": 5
}
